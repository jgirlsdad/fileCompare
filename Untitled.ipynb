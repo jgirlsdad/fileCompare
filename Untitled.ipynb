{
 "cells": [
  {
   "cell_type": "code",
   "execution_count": 1,
   "id": "2db55fc2-9423-42e8-97c9-d5246d6317a9",
   "metadata": {},
   "outputs": [],
   "source": [
    "import json\n",
    "import pandas as pd"
   ]
  },
  {
   "cell_type": "code",
   "execution_count": 8,
   "id": "6c7f885b-b6f9-4b4d-8ab5-3b0d03a1a8b3",
   "metadata": {},
   "outputs": [
    {
     "name": "stdout",
     "output_type": "stream",
     "text": [
      "defaultJobName Unsaved Standard Job (2)\n",
      "------------------\n",
      "datasetID w6kb-3vsj\n",
      "------------------\n",
      "fileToPublish /usr/local/cim/bic_etl/cdos/business/nonprofit/data_transformed/sol_typ_entity.csv\n",
      "------------------\n",
      "publishMethod replace\n",
      "------------------\n",
      "        <class 'bool'>\n",
      "------------------\n",
      "controlFileContent {\n",
      "  \"action\" : \"Replace\",\n",
      "  \"csv\" : {\n",
      "    \"columnStatistics\" : true,\n",
      "    \"columns\" : [ \"entityid\", \"documentid\", \"name\", \"communicationtype\" ],\n",
      "    \"emptyTextIsNull\" : true,\n",
      "    \"encoding\" : \"utf-8\",\n",
      "    \"fixedTimestampFormat\" : [ \"ISO8601\", \"MM/dd/yy\", \"MM/dd/yyyy\", \"dd-MMM-yyyy\", \"MM/dd/yyyy hh:mm:ss a Z\", \"MM/dd/yyyy hh:mm:ss a\" ],\n",
      "    \"floatingTimestampFormat\" : [ \"ISO8601\", \"MM/dd/yy\", \"MM/dd/yyyy\", \"dd-MMM-yyyy\", \"MM/dd/yyyy hh:mm:ss a Z\", \"MM/dd/yyyy hh:mm:ss a\" ],\n",
      "    \"ignoreColumns\" : [ ],\n",
      "    \"overrides\" : { },\n",
      "    \"quote\" : \"\\\"\",\n",
      "    \"separator\" : \",\",\n",
      "    \"setAsideErrors\" : false,\n",
      "    \"skip\" : 1,\n",
      "    \"timezone\" : \"UTC\",\n",
      "    \"trimServerWhitespace\" : false,\n",
      "    \"trimWhitespace\" : true,\n",
      "    \"useSocrataGeocoding\" : false\n",
      "  }\n",
      "}\n",
      "------------------\n",
      "        <class 'bool'>\n",
      "------------------\n",
      "        <class 'bool'>\n",
      "------------------\n",
      "        <class 'int'>\n",
      "------------------\n",
      "pathToSavedFile /usr/local/cim/bic_etl/cdos/business/nonprofit/data_transformed/sol_typ_entity.csv\n",
      "------------------\n",
      "jobFilename sol-typ-entity.sij\n",
      "------------------\n",
      "ftpControlFileContent {\n",
      "  \"action\" : \"Replace\",\n",
      "  \"csv\" : {\n",
      "    \"columnStatistics\" : true,\n",
      "    \"columns\" : [ \"entityid\", \"documentid\", \"name\", \"communicationtype\" ],\n",
      "    \"emptyTextIsNull\" : true,\n",
      "    \"encoding\" : \"utf-8\",\n",
      "    \"fixedTimestampFormat\" : [ \"ISO8601\", \"MM/dd/yy\", \"MM/dd/yyyy\", \"dd-MMM-yyyy\", \"MM/dd/yyyy hh:mm:ss a Z\", \"MM/dd/yyyy hh:mm:ss a\" ],\n",
      "    \"floatingTimestampFormat\" : [ \"ISO8601\", \"MM/dd/yy\", \"MM/dd/yyyy\", \"dd-MMM-yyyy\", \"MM/dd/yyyy hh:mm:ss a Z\", \"MM/dd/yyyy hh:mm:ss a\" ],\n",
      "    \"ignoreColumns\" : [ ],\n",
      "    \"overrides\" : { },\n",
      "    \"quote\" : \"\\\"\",\n",
      "    \"separator\" : \",\",\n",
      "    \"setAsideErrors\" : false,\n",
      "    \"skip\" : 1,\n",
      "    \"timezone\" : \"UTC\",\n",
      "    \"trimServerWhitespace\" : false,\n",
      "    \"trimWhitespace\" : true,\n",
      "    \"useSocrataGeocoding\" : false\n",
      "  }\n",
      "}\n",
      "------------------\n"
     ]
    }
   ],
   "source": [
    "with open('/home/joe/test-sol-type-entity.sij') as json_file:\n",
    "    data = json.load(json_file)\n",
    "    for key,vals in data.items():\n",
    "        if isinstance(vals,str) :\n",
    "            print(key,vals)\n",
    "        else:\n",
    "            print(\"       \",type(vals))\n",
    "        print(\"------------------\")"
   ]
  },
  {
   "cell_type": "code",
   "execution_count": 7,
   "id": "052c2c43-931b-41b0-b263-d5f37135bdd7",
   "metadata": {},
   "outputs": [
    {
     "data": {
      "text/plain": [
       "True"
      ]
     },
     "execution_count": 7,
     "metadata": {},
     "output_type": "execute_result"
    }
   ],
   "source": []
  },
  {
   "cell_type": "code",
   "execution_count": 5,
   "id": "9f355b16-d0cc-4da1-b913-bb6738d07384",
   "metadata": {},
   "outputs": [
    {
     "name": "stderr",
     "output_type": "stream",
     "text": [
      "/home/joe/anaconda3/envs/bic/lib/python3.6/site-packages/IPython/core/interactiveshell.py:3072: DtypeWarning: Columns (1,19) have mixed types.Specify dtype option on import or set low_memory=False.\n",
      "  interactivity=interactivity, compiler=compiler, result=result)\n"
     ]
    }
   ],
   "source": [
    "df1 = pd.read_csv(\"~/bic_etl/cdos/business/nonprofit/data_source/char_orgs_sol.tsv\",encoding=\"latin\",delimiter=\"\\t\")\n",
    "df2 = pd.read_csv(\"~/bic_etl/cdos/business/nonprofit/data_transformed/char_orgs_sol.csv\")"
   ]
  },
  {
   "cell_type": "code",
   "execution_count": 18,
   "id": "f7ffff07-3117-41d9-9656-7d133314e469",
   "metadata": {},
   "outputs": [],
   "source": [
    "missingFile1 = {}\n",
    "for col in df1.columns:\n",
    "    missingFile1[col] = {}\n",
    "    missingFile1[col][\"count\"] = df1[col].isna().sum()\n",
    "    missingFile1[col][\"percent\"] = df1[col].isna().sum()/df1.shape[0]*100\n",
    "    "
   ]
  },
  {
   "cell_type": "code",
   "execution_count": 19,
   "id": "08a0f25c-1a6e-4580-8237-475a05899872",
   "metadata": {},
   "outputs": [],
   "source": [
    "missingFile2={}\n",
    "for col in df2.columns:\n",
    "    missingFile2[col]={}\n",
    "    missingFile2[col][\"count\"] = df2[col].isna().sum()\n",
    "    missingFile2[col][\"percent\"] = df2[col].isna().sum()/df2.shape[0]*100\n",
    "    "
   ]
  },
  {
   "cell_type": "code",
   "execution_count": 20,
   "id": "ac0d7210-b4d1-4961-baa9-ae33df15b92b",
   "metadata": {},
   "outputs": [],
   "source": [
    "with open(\"/home/joe/bic_etl/cdos/business/nonprofit/scripts/char_orgs_sol.js\",\"r\") as fin:\n",
    "    lines = fin.readlines()\n",
    "    \n",
    "        \n",
    "        "
   ]
  },
  {
   "cell_type": "code",
   "execution_count": 11,
   "id": "b57ebef7-b712-457a-aa3a-fb28dd5cf3e9",
   "metadata": {},
   "outputs": [],
   "source": [
    "import re"
   ]
  },
  {
   "cell_type": "code",
   "execution_count": 24,
   "id": "2d20a6f0-8670-4765-a75c-00b9b0ebca5a",
   "metadata": {},
   "outputs": [
    {
     "name": "stdout",
     "output_type": "stream",
     "text": [
      "    tRow[\"registrantTypeAbbr\"] = row['Person Type'];\n",
      "\n",
      "registrantType Person Type\n",
      "100.0 46469 0.0 0\n",
      "    tRow[\"registrantType\"]     = personTypeObj[row['Person Type']];\n",
      "\n",
      "registrantType Person Type\n",
      "100.0 46469 0.0 0\n",
      "    tRow[\"mailingZipCode4\"]    = custom_helper.getZip4(row['Ol Mzip']);\n",
      "\n",
      "mailingZipCode4 Ol Mzip\n",
      "99.855817857066 46402 98.82932707826724 45925\n",
      "    tRow[\"performedZipCode4\"]  = custom_helper.getZip4(row['Ol Wzip']);\n",
      "\n",
      "performedZipCode4 Ol Wzip\n",
      "99.83860207880522 46394 97.51232004131786 45313\n"
     ]
    }
   ],
   "source": [
    "for col in missingFile2.keys():\n",
    "    \n",
    "    if missingFile2[col][\"percent\"] > 99: \n",
    "        for line in lines:\n",
    "            if col.lower() in line.lower() and \"=\" in line:\n",
    "                print(line)\n",
    "                spl = line.split(\"=\")\n",
    "                out = spl[0].strip()\n",
    "                inn = spl[1].strip()\n",
    "                # print(f\"{out} <== {inn}\") \n",
    "                st = inn.find(\"['\")\n",
    "                ed = inn.find(\"']\")\n",
    "                colFile2 = inn[st+2:ed]\n",
    "                print(col,colFile2)\n",
    "                print(missingFile2[col][\"percent\"],missingFile2[col][\"count\"],missingFile1[colFile2][\"percent\"],missingFile1[colFile2][\"count\"])                "
   ]
  },
  {
   "cell_type": "code",
   "execution_count": null,
   "id": "d4563599-4f01-4740-a0ab-6e3eff7b13ea",
   "metadata": {},
   "outputs": [],
   "source": []
  },
  {
   "cell_type": "code",
   "execution_count": null,
   "id": "17db18d9-1af1-4665-a1f0-0a2c521ebdd1",
   "metadata": {},
   "outputs": [],
   "source": []
  }
 ],
 "metadata": {
  "kernelspec": {
   "display_name": "Python 3",
   "language": "python",
   "name": "python3"
  },
  "language_info": {
   "codemirror_mode": {
    "name": "ipython",
    "version": 3
   },
   "file_extension": ".py",
   "mimetype": "text/x-python",
   "name": "python",
   "nbconvert_exporter": "python",
   "pygments_lexer": "ipython3",
   "version": "3.6.13"
  }
 },
 "nbformat": 4,
 "nbformat_minor": 5
}
